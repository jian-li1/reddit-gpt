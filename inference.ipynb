{
 "cells": [
  {
   "cell_type": "markdown",
   "id": "f22a582e-d20e-4c5d-8a61-ae69d7bfea0b",
   "metadata": {},
   "source": [
    "**Load saved model**"
   ]
  },
  {
   "cell_type": "code",
   "execution_count": 1,
   "id": "a787991f-d7b9-4cc4-976f-b6a81c96f1bd",
   "metadata": {},
   "outputs": [
    {
     "name": "stdout",
     "output_type": "stream",
     "text": [
      "🦥 Unsloth: Will patch your computer to enable 2x faster free finetuning.\n",
      "==((====))==  Unsloth 2024.8: Fast Llama patching. Transformers = 4.44.0.\n",
      "   \\\\   /|    GPU: NVIDIA GeForce RTX 4090. Max memory: 23.988 GB. Platform = Linux.\n",
      "O^O/ \\_/ \\    Pytorch: 2.3.0+cu121. CUDA = 8.9. CUDA Toolkit = 12.1.\n",
      "\\        /    Bfloat16 = TRUE. FA [Xformers = 0.0.26.post1. FA2 = False]\n",
      " \"-____-\"     Free Apache license: http://github.com/unslothai/unsloth\n"
     ]
    },
    {
     "name": "stderr",
     "output_type": "stream",
     "text": [
      "Unsloth 2024.8 patched 32 layers with 32 QKV layers, 32 O layers and 32 MLP layers.\n"
     ]
    }
   ],
   "source": [
    "from unsloth import FastLanguageModel\n",
    "import torch\n",
    "max_seq_length = 1024 # Choose any! We auto support RoPE Scaling internally!\n",
    "dtype = None # None for auto detection. Float16 for Tesla T4, V100, Bfloat16 for Ampere+\n",
    "load_in_4bit = True # Use 4bit quantization to reduce memory usage. Can be False.\n",
    "\n",
    "model, tokenizer = FastLanguageModel.from_pretrained(\n",
    "    model_name = \"lora_model\", # YOUR MODEL YOU USED FOR TRAINING\n",
    "    max_seq_length = max_seq_length,\n",
    "    dtype = dtype,\n",
    "    load_in_4bit = load_in_4bit,\n",
    ")\n",
    "FastLanguageModel.for_inference(model) # Enable native 2x faster inference"
   ]
  },
  {
   "cell_type": "code",
   "execution_count": null,
   "id": "3d13f091-defa-454c-b24b-8a2629d5de96",
   "metadata": {},
   "outputs": [],
   "source": [
    "prompt = \"\"\n",
    "msgs = [{\"role\": \"user\", \"content\": prompt},]\n",
    "FastLanguageModel.for_inference(model)\n",
    "inputs = tokenizer.apply_chat_template(\n",
    "    msgs,\n",
    "    tokenize = True,\n",
    "    add_generation_prompt = True,\n",
    "    return_tensors = \"pt\"\n",
    ").to(\"cuda\")\n",
    "\n",
    "outputs = model.generate(input_ids = inputs, min_new_tokens = 64, max_new_tokens = 2048, use_cache=True)\n",
    "decoded_output = tokenizer.batch_decode(outputs, skip_special_tokens=True)[0]\n",
    "decoded_input = tokenizer.batch_decode(inputs, skip_special_tokens=True)[0]\n",
    "generated_response = decoded_output[len(decoded_input):].strip()\n",
    "# print(tokenizer.batch_decode(outputs)[0])\n",
    "# print()\n",
    "print(generated_response)"
   ]
  },
  {
   "cell_type": "code",
   "execution_count": null,
   "id": "30b2ca8a-87c0-4de4-ab1a-d3964d4c2454",
   "metadata": {},
   "outputs": [],
   "source": []
  }
 ],
 "metadata": {
  "kernelspec": {
   "display_name": "Python 3 (ipykernel)",
   "language": "python",
   "name": "python3"
  },
  "language_info": {
   "codemirror_mode": {
    "name": "ipython",
    "version": 3
   },
   "file_extension": ".py",
   "mimetype": "text/x-python",
   "name": "python",
   "nbconvert_exporter": "python",
   "pygments_lexer": "ipython3",
   "version": "3.10.12"
  }
 },
 "nbformat": 4,
 "nbformat_minor": 5
}
