{
 "cells": [
  {
   "cell_type": "markdown",
   "id": "f22a582e-d20e-4c5d-8a61-ae69d7bfea0b",
   "metadata": {},
   "source": [
    "**Load saved model**"
   ]
  },
  {
   "cell_type": "code",
   "execution_count": null,
   "id": "a787991f-d7b9-4cc4-976f-b6a81c96f1bd",
   "metadata": {},
   "outputs": [],
   "source": [
    "from unsloth import FastLanguageModel\n",
    "import torch\n",
    "from transformers import TextStreamer\n",
    "import gc\n",
    "\n",
    "try:\n",
    "    del model\n",
    "    del tokenizer\n",
    "except NameError:\n",
    "    pass\n",
    "gc.collect()\n",
    "torch.cuda.empty_cache()\n",
    "\n",
    "max_seq_length = 1024 # Choose any! We auto support RoPE Scaling internally!\n",
    "dtype = None # None for auto detection. Float16 for Tesla T4, V100, Bfloat16 for Ampere+\n",
    "load_in_4bit = True # Use 4bit quantization to reduce memory usage. Can be False.\n",
    "\n",
    "model, tokenizer = FastLanguageModel.from_pretrained(\n",
    "    model_name = \"test_model\", # YOUR MODEL YOU USED FOR TRAINING\n",
    "    max_seq_length = max_seq_length,\n",
    "    dtype = dtype,\n",
    "    load_in_4bit = load_in_4bit,\n",
    ")\n",
    "FastLanguageModel.for_inference(model) # Enable native 2x faster inference\n",
    "tokenizer.pad_token = '<|reserved_special_token_250|>'\n",
    "tokenizer.pad_token_id = 128255\n"
   ]
  },
  {
   "cell_type": "code",
   "execution_count": null,
   "id": "eb86d116-f218-4430-bbe6-119e943ed871",
   "metadata": {},
   "outputs": [],
   "source": [
    "min_tokens = 64\n",
    "max_tokens = 1024\n",
    "instructions = \"You are a helpful AI assistant.\""
   ]
  },
  {
   "cell_type": "markdown",
   "id": "b6ad37b2-8d86-4c6b-9e07-756f34279427",
   "metadata": {},
   "source": [
    "**Generate response**"
   ]
  },
  {
   "cell_type": "code",
   "execution_count": null,
   "id": "3d13f091-defa-454c-b24b-8a2629d5de96",
   "metadata": {},
   "outputs": [],
   "source": [
    "prompt = \"\"\n",
    "\n",
    "msgs = [\n",
    "    {\"role\": \"system\", \"content\": instructions},\n",
    "    {\"role\": \"user\", \"content\": prompt}\n",
    "]\n",
    "\n",
    "FastLanguageModel.for_inference(model)\n",
    "inputs = tokenizer.apply_chat_template(\n",
    "    msgs,\n",
    "    tokenize = True,\n",
    "    add_generation_prompt = True,\n",
    "    return_tensors = \"pt\"\n",
    ").to(\"cuda\")\n",
    "attention_mask = (inputs != tokenizer.pad_token_id).int()\n",
    "\n",
    "outputs = model.generate(\n",
    "    input_ids = inputs, \n",
    "    attention_mask = attention_mask, \n",
    "    min_new_tokens = min_tokens, \n",
    "    max_new_tokens = max_tokens,\n",
    "    temperature = 0.8,\n",
    "    repetition_penalty=1.25,\n",
    "    top_p = 0.9,\n",
    "    use_cache = True\n",
    ")\n",
    "\n",
    "decoded_output = tokenizer.batch_decode(outputs, skip_special_tokens=True)[0]\n",
    "decoded_input = tokenizer.batch_decode(inputs, skip_special_tokens=True)[0]\n",
    "generated_response = decoded_output[len(decoded_input):].strip()\n",
    "# print(tokenizer.batch_decode(outputs)[0])\n",
    "# print()\n",
    "print(generated_response)"
   ]
  },
  {
   "cell_type": "markdown",
   "id": "95502465-e795-4660-b796-df70aca40abc",
   "metadata": {},
   "source": [
    "**Generate response token by token**"
   ]
  },
  {
   "cell_type": "code",
   "execution_count": null,
   "id": "03b95871-4257-48a0-bdd2-ebca931c6fcb",
   "metadata": {},
   "outputs": [],
   "source": [
    "prompt = \"\"\n",
    "\n",
    "msgs = [\n",
    "    {\"role\": \"system\", \"content\": instructions},\n",
    "    {\"role\": \"user\", \"content\": prompt}\n",
    "]\n",
    "\n",
    "inputs = tokenizer.apply_chat_template(\n",
    "    msgs,\n",
    "    tokenize = True,\n",
    "    add_generation_prompt = True,\n",
    "    return_tensors = \"pt\"\n",
    ").to(\"cuda\")\n",
    "attention_mask = (inputs != tokenizer.pad_token_id).int()\n",
    "\n",
    "text_streamer = TextStreamer(tokenizer, skip_prompt=True, skip_special_tokens=True)\n",
    "outputs = model.generate(\n",
    "    input_ids = inputs, \n",
    "    attention_mask = attention_mask, \n",
    "    streamer = text_streamer, \n",
    "    min_new_tokens = min_tokens, \n",
    "    max_new_tokens = max_tokens,\n",
    "    temperature = 0.8,\n",
    "    repetition_penalty = 1.25,\n",
    "    top_p = 0.9,\n",
    "    use_cache = True\n",
    ")"
   ]
  },
  {
   "cell_type": "code",
   "execution_count": null,
   "id": "66c65425-cc88-4f81-b6a7-18635d4015d2",
   "metadata": {},
   "outputs": [],
   "source": []
  }
 ],
 "metadata": {
  "kernelspec": {
   "display_name": "Python 3 (ipykernel)",
   "language": "python",
   "name": "python3"
  },
  "language_info": {
   "codemirror_mode": {
    "name": "ipython",
    "version": 3
   },
   "file_extension": ".py",
   "mimetype": "text/x-python",
   "name": "python",
   "nbconvert_exporter": "python",
   "pygments_lexer": "ipython3",
   "version": "3.10.12"
  }
 },
 "nbformat": 4,
 "nbformat_minor": 5
}
